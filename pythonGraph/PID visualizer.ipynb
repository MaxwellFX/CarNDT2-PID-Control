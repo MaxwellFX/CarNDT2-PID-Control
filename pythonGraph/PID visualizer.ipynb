{
 "cells": [
  {
   "cell_type": "code",
   "execution_count": 40,
   "metadata": {},
   "outputs": [],
   "source": [
    "import numpy as np\n",
    "import matplotlib.pyplot as plt\n",
    "import csv\n",
    "\n",
    "def getCSVLog(csv_path):\n",
    "    \"\"\"get the driving log\"\"\"\n",
    "    with open(csv_path, newline = '') as csvfile:\n",
    "        driving_log = list(csv.reader(csvfile, skipinitialspace = True, delimiter = ',', quoting = csv.QUOTE_NONE))\n",
    "    return driving_log[1:]\n",
    "\n",
    "def getCTEandSteer(Array):\n",
    "    CTE = []\n",
    "    Steer = []\n",
    "    for value in Array:\n",
    "        CTE.append(value[0])\n",
    "        Steer.append(value[1])\n",
    "    \n",
    "    return CTE, Steer"
   ]
  },
  {
   "cell_type": "code",
   "execution_count": 41,
   "metadata": {},
   "outputs": [],
   "source": [
    "P = getCSVLog('P_only.csv')\n",
    "P_trim = P[0:800]\n",
    "PI = getCSVLog('PI.csv')\n",
    "PI_trim = PI\n",
    "PD = getCSVLog('PD.csv')\n",
    "PD_trim = PD[0:800]\n",
    "PID = getCSVLog('PID.csv')\n",
    "PID_trim = PID[0:800]"
   ]
  },
  {
   "cell_type": "code",
   "execution_count": 42,
   "metadata": {},
   "outputs": [],
   "source": [
    "[P_CTE, P_Steer] = getCTEandSteer(P_trim)\n",
    "[PI_CTE, PI_Steer] = getCTEandSteer(PI_trim)\n",
    "[PD_CTE, PD_Steer] = getCTEandSteer(PD_trim)\n",
    "[PID_CTE, PID_Steer] = getCTEandSteer(PID_trim)"
   ]
  },
  {
   "cell_type": "code",
   "execution_count": 49,
   "metadata": {},
   "outputs": [],
   "source": [
    "x = []\n",
    "for i in range (800):\n",
    "    x.append(i)\n"
   ]
  },
  {
   "cell_type": "code",
   "execution_count": 52,
   "metadata": {},
   "outputs": [
    {
     "name": "stdout",
     "output_type": "stream",
     "text": [
      "['0.7598', '0.7598', '0.7598', '0.7598', '0.7598', '0.7598', '0.7598', '0.7598', '0.7598', '0.7596', '0.7595', '0.7593', '0.7592', '0.759', '0.7588', '0.7586', '0.7583', '0.7581', '0.7578', '0.7576', '0.7571', '0.7569', '0.7564', '0.7561', '0.7555', '0.7552', '0.7546', '0.7542', '0.7535', '0.7532', '0.7524', '0.7519', '0.7511', '0.7506', '0.7497', '0.7492', '0.7481', '0.7475', '0.7464', '0.7458', '0.7446', '0.7439', '0.7425', '0.7418', '0.7403', '0.7395', '0.7378', '0.7369', '0.7351', '0.7341', '0.7321', '0.731', '0.7288', '0.7276', '0.7252', '0.7239', '0.7212', '0.7198', '0.7168', '0.7136', '0.712', '0.7103', '0.7068', '0.705', '0.7011', '0.6992', '0.695', '0.6907', '0.6885', '0.6839', '0.6815', '0.6765', '0.6739', '0.6713', '0.6659', '0.6631', '0.6573', '0.6543', '0.6482', '0.645', '0.6417', '0.6351', '0.6316', '0.6246', '0.6209', '0.6134', '0.6096', '0.6057', '0.5976', '0.5935', '0.5893', '0.5807', '0.5762', '0.5672', '0.5625', '0.5531', '0.5486', '0.5443', '0.5366', '0.5333', '0.5283', '0.5269', '0.5265', '0.5167', '0.5115', '0.5068', '0.4981', '0.4942', '0.4905', '0.4837', '0.4804', '0.4743', '0.4714', '0.4685', '0.4628', '0.4599', '0.457', '0.4511', '0.448', '0.4449', '0.4384', '0.435', '0.4281', '0.4246', '0.421', '0.4135', '0.4097', '0.4058', '0.3978', '0.3937', '0.3853', '0.381', '0.3767', '0.3678', '0.3632', '0.3586', '0.3491', '0.3443', '0.3394', '0.3294', '0.3243', '0.3139', '0.3086', '0.3033', '0.2925', '0.2869', '0.2814', '0.2701', '0.2643', '0.2527', '0.2468', '0.2408', '0.2288', '0.2227', '0.2165', '0.2041', '0.1978', '0.1915', '0.1788', '0.1724', '0.1659', '0.1531', '0.1465', '0.1401', '0.127', '0.1203', '0.1072', '0.1007', '0.094', '0.0807', '0.0741', '0.0608', '0.054', '0.0474', '0.0341', '0.0274', '0.0143', '0.0078', '0.0011', '-0.0119', '-0.0183', '-0.0249', '-0.0375', '-0.0438', '-0.0501', '-0.0626', '-0.0686', '-0.0808', '-0.0868', '-0.0926', '-0.1042', '-0.11', '-0.1212', '-0.1266', '-0.132', '-0.1425', '-0.1476', '-0.1576', '-0.1625', '-0.1719', '-0.1763', '-0.1808', '-0.1893', '-0.1933', '-0.2011', '-0.2049', '-0.2084', '-0.2151', '-0.2184', '-0.2243', '-0.227', '-0.2296', '-0.2344', '-0.2365', '-0.2403', '-0.2421', '-0.2449', '-0.246', '-0.2471', '-0.2487', '-0.2491', '-0.2495', '-0.2497', '-0.2495', '-0.2486', '-0.2479', '-0.247', '-0.2447', '-0.2433', '-0.2399', '-0.2379', '-0.2358', '-0.231', '-0.2283', '-0.2223', '-0.2191', '-0.2121', '-0.2083', '-0.2044', '-0.196', '-0.1915', '-0.1821', '-0.1771', '-0.1716', '-0.1587', '-0.1512', '-0.1343', '-0.1248', '-0.104', '-0.0926', '-0.0678', '-0.0544', '-0.0405', '-0.0113', '0.0035', '0.0334', '0.0484', '0.0635', '0.0938', '0.109', '0.1394', '0.1546', '0.1698', '0.2', '0.2151', '0.2451', '0.26', '0.2895', '0.3041', '0.3185', '0.3471', '0.3612', '0.3888', '0.4024', '0.4289', '0.4419', '0.4672', '0.4794', '0.4915', '0.5148', '0.5259', '0.5369', '0.5579', '0.5678', '0.5869', '0.5959', '0.6046', '0.6208', '0.6284', '0.6424', '0.6487', '0.6548', '0.6655', '0.6702', '0.6784', '0.6819', '0.6874', '0.6895', '0.6911', '0.693', '0.6932', '0.6923', '0.6911', '0.6894', '0.6847', '0.6817', '0.678', '0.6695', '0.6645', '0.6531', '0.6466', '0.6398', '0.6246', '0.6163', '0.5984', '0.5889', '0.5788', '0.5574', '0.5461', '0.5343', '0.5097', '0.4968', '0.4699', '0.4559', '0.4416', '0.4119', '0.3965', '0.3649', '0.3488', '0.3323', '0.2986', '0.2815', '0.2465', '0.2287', '0.2108', '0.1745', '0.1561', '0.1377', '0.1025', '0.0861', '0.059', '0.0479', '0.0312', '0.0043', '-0.0089', '-0.028', '-0.0373', '-0.0465', '-0.0645', '-0.0733', '-0.082', '-0.0989', '-0.1072', '-0.1231', '-0.1308', '-0.1383', '-0.1527', '-0.1595', '-0.1662', '-0.1787', '-0.1845', '-0.1955', '-0.2006', '-0.2053', '-0.214', '-0.2179', '-0.2215', '-0.2277', '-0.2304', '-0.2346', '-0.2362', '-0.2376', '-0.2391', '-0.2393', '-0.2387', '-0.2379', '-0.2367', '-0.2333', '-0.2311', '-0.2255', '-0.2221', '-0.2185', '-0.21', '-0.1947', '-0.189', '-0.1828', '-0.1696', '-0.1625', '-0.1473', '-0.1393', '-0.131', '-0.1134', '-0.1042', '-0.085', '-0.0751', '-0.0649', '-0.0438', '-0.0329', '-0.0218', '0.0008', '0.0124', '0.0361', '0.0481', '0.0603', '0.0849', '0.0973', '0.1098', '0.1349', '0.1475', '0.1749', '0.1903', '0.207', '0.2427', '0.2621', '0.304', '0.3263', '0.3487', '0.3928', '0.4145', '0.4571', '0.478', '0.4984', '0.5382', '0.5574', '0.5945', '0.6123', '0.6296', '0.6625', '0.678', '0.7072', '0.7208', '0.7459', '0.7574', '0.7781', '0.7873', '0.8033', '0.8101', '0.816', '0.8252', '0.8285', '0.8309', '0.8331', '0.8328', '0.8294', '0.8263', '0.8223', '0.8115', '0.8046', '0.7882', '0.7786', '0.7681', '0.7444', '0.7312', '0.7021', '0.6863', '0.6696', '0.6338', '0.6146', '0.5741', '0.5527', '0.5077', '0.4842', '0.4601', '0.41', '0.3841', '0.3307', '0.2753', '0.189', '0.1594', '0.1297', '0.0694', '0.039', '-0.022', '-0.0527', '-0.0832', '-0.1409', '-0.168', '-0.2185', '-0.2403', '-0.2614', '-0.3', '-0.3176', '-0.3516', '-0.3679', '-0.3837', '-0.4137', '-0.4279', '-0.4543', '-0.4665', '-0.489', '-0.4991', '-0.5085', '-0.525', '-0.5321', '-0.5383', '-0.5482', '-0.5519', '-0.5566', '-0.5576', '-0.5577', '-0.5552', '-0.5525', '-0.5444', '-0.5389', '-0.5325', '-0.5168', '-0.5076', '-0.4864', '-0.4745', '-0.4478', '-0.4332', '-0.4176', '-0.3841', '-0.3472', '-0.2859', '-0.2639', '-0.2413', '-0.194', '-0.1694', '-0.1186', '-0.0923', '-0.0384', '-0.0108', '0.0455', '0.0742', '0.1031', '0.1615', '0.1909', '0.2501', '0.2798', '0.339', '0.3684', '0.4268', '0.4557', '0.5125', '0.5404', '0.5948', '0.6212', '0.6471', '0.6969', '0.7208', '0.7668', '0.7906', '0.8409', '0.8676', '0.9253', '0.9554', '1.0198', '1.0511', '1.0811', '1.137', '1.1628', '1.21', '1.2313', '1.2689', '1.2852', '1.3127', '1.3237', '1.3495', '1.3491', '1.345', '1.3311', '1.3212', '1.2953', '1.2794', '1.2616', '1.2201', '1.1965', '1.1435', '1.1142', '1.0831', '1.0156', '0.9793', '0.9414', '0.8607', '0.8181', '0.7285', '0.6816', '0.6334', '0.5336', '0.482', '0.4293', '0.3213', '0.2661', '0.2101', '0.0963', '0.0386', '-0.0779', '-0.1365', '-0.1953', '-0.3128', '-0.3715', '-0.4298', '-0.5454', '-0.6017', '-0.7407', '-0.76', '-0.8086', '-0.8549', '-0.9408', '-0.9817', '-1.0592', '-1.0957', '-1.1306', '-1.1952', '-1.2526', '-1.3242', '-1.3616', '-1.377', '-1.3901', '-1.4094', '-1.4154', '-1.4201', '-1.4188', '-1.4149', '-1.3996', '-1.3882', '-1.3576', '-1.3385', '-1.3168', '-1.266', '-1.2368', '-1.1712', '-1.1347', '-1.0548', '-1.0114', '-0.9182', '-0.8683', '-0.8165', '-0.7071', '-0.6496', '-0.5294', '-0.4669', '-0.3376', '-0.2708', '-0.1339', '-0.0638', '0.079', '0.1516', '0.2247', '0.3745', '0.4564', '0.6253', '0.7097', '0.8873', '0.9781', '1.1605', '1.2505', '1.4268', '1.5129', '1.68', '1.7608', '1.9159', '1.99', '2.1303', '2.1964', '2.3194', '2.3762', '2.4793', '2.5256', '2.6066', '2.6412', '2.6979', '2.7199', '2.7376', '2.7597', '2.764', '2.7588', '2.7493', '2.7351', '2.6929', '2.6647', '2.5946', '2.5527', '2.4553', '2.4', '2.3403', '2.2082', '2.1359', '2.0597', '1.8956', '1.8079', '1.6219', '1.5239', '1.4227', '1.2115', '1.1017', '0.9894', '0.7578', '0.6387', '0.5179', '0.2712', '0.1457', '0.0191', '-0.2367', '-0.3656', '-0.4948', '-0.624', '-0.8817', '-1.265', '-1.6415', '-1.7645', '-2.0044', '-2.121', '-2.2349', '-2.3459', '-2.5582', '-2.6591', '-2.7561', '-3.0442', '-3.2975', '-3.191', '-3.1683', '-3.2715', '-3.305', '-3.3295', '-3.3616', '-3.3689', '-3.3702', '-3.355', '-3.3384', '-3.3158', '-3.2525', '-3.2118', '-3.1651', '-3.0542', '-2.9901', '-2.8448', '-2.7638', '-2.5859', '-2.489', '-2.2807', '-2.1693', '-2.0535', '-1.8091', '-1.6808', '-1.4129', '-1.2736', '-0.9859', '-0.8377', '-0.5339', '-0.3785', '-0.0623', '0.0983', '0.4228', '0.5865', '1.0795', '1.8456', '2.0211', '2.4701', '2.5581', '2.7117', '3.0286', '3.1855', '3.4852', '3.6269', '3.891', '4.0141', '4.2434', '4.3517', '4.5521', '4.6502', '4.8454', '4.9424', '5.1325', '5.2214', '5.3855', '5.4631', '5.61', '5.6786', '5.7449', '5.8692', '5.981', '6.0628', '6.0791', '6.07', '6.0486', '6.0175', '5.9329', '5.8805', '5.82', '5.6836', '5.6071', '5.5311', '5.3515', '5.2554', '5.1559', '4.9329', '4.8195', '4.7059', '4.2638', '4.0556', '3.8386', '3.7407', '3.653', '3.5024', '3.4416', '3.3927', '3.3242', '3.3007']\n"
     ]
    }
   ],
   "source": [
    "print(P_CTE)"
   ]
  },
  {
   "cell_type": "code",
   "execution_count": 50,
   "metadata": {},
   "outputs": [
    {
     "data": {
      "image/png": "[encoded data removed]",
      "text/plain": [
       "<Figure size 432x288 with 1 Axes>"
      ]
     },
     "metadata": {},
     "output_type": "display_data"
    }
   ],
   "source": [
    "plt.plot(x, P_CTE)\n",
    "# plt.plot(x, PI_CTE)\n",
    "# plt.plot(x, PD_CTE)\n",
    "# plt.plot(x, PID_CTE)\n",
    "plt.show()"
   ]
  },
  {
   "cell_type": "code",
   "execution_count": 36,
   "metadata": {},
   "outputs": [
    {
     "data": {
      "text/plain": [
       "800"
      ]
     },
     "execution_count": 36,
     "metadata": {},
     "output_type": "execute_result"
    }
   ],
   "source": [
    "len(PI)"
   ]
  },
  {
   "cell_type": "code",
   "execution_count": 37,
   "metadata": {},
   "outputs": [],
   "source": [
    "aaa = P_CTE[0:800]"
   ]
  },
  {
   "cell_type": "code",
   "execution_count": 39,
   "metadata": {},
   "outputs": [
    {
     "data": {
      "text/plain": [
       "800"
      ]
     },
     "execution_count": 39,
     "metadata": {},
     "output_type": "execute_result"
    }
   ],
   "source": [
    "len(aaa)"
   ]
  },
  {
   "cell_type": "code",
   "execution_count": null,
   "metadata": {},
   "outputs": [],
   "source": []
  }
 ],
 "metadata": {
  "kernelspec": {
   "display_name": "Python 3",
   "language": "python",
   "name": "python3"
  },
  "language_info": {
   "codemirror_mode": {
    "name": "ipython",
    "version": 3
   },
   "file_extension": ".py",
   "mimetype": "text/x-python",
   "name": "python",
   "nbconvert_exporter": "python",
   "pygments_lexer": "ipython3",
   "version": "3.6.5"
  }
 },
 "nbformat": 4,
 "nbformat_minor": 2
}
